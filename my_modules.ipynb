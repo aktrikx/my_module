{
  "nbformat": 4,
  "nbformat_minor": 0,
  "metadata": {
    "colab": {
      "name": "my_modules.py",
      "provenance": [],
      "collapsed_sections": [],
      "authorship_tag": "ABX9TyM8uwnKlZsn31i4D1zm8NM0",
      "include_colab_link": true
    },
    "kernelspec": {
      "name": "python3",
      "display_name": "Python 3"
    }
  },
  "cells": [
    {
      "cell_type": "markdown",
      "metadata": {
        "id": "view-in-github",
        "colab_type": "text"
      },
      "source": [
        "<a href=\"https://colab.research.google.com/github/aktrikx/my_module/blob/master/my_modules.ipynb\" target=\"_parent\"><img src=\"https://colab.research.google.com/assets/colab-badge.svg\" alt=\"Open In Colab\"/></a>"
      ]
    },
    {
      "cell_type": "code",
      "metadata": {
        "id": "j3yw9pnRTXjc",
        "colab_type": "code",
        "colab": {}
      },
      "source": [
        "def my_percent(a,b):\n",
        "  print((a/b)*100,\"%\")\n",
        "def my_add(a,b):\n",
        "    print(a+b)\n",
        "def my_sub(a,b):\n",
        "    print(a-b) \n",
        "def my_divide(a,b):\n",
        "    print(a/b)   \n",
        "def my_multiply(a,b):\n",
        "    print(a*b)         "
      ],
      "execution_count": 0,
      "outputs": []
    }
  ]
}